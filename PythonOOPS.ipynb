{
  "nbformat": 4,
  "nbformat_minor": 0,
  "metadata": {
    "colab": {
      "provenance": []
    },
    "kernelspec": {
      "name": "python3",
      "display_name": "Python 3"
    },
    "language_info": {
      "name": "python"
    }
  },
  "cells": [
    {
      "cell_type": "markdown",
      "source": [
        "#PYTHON OOPS"
      ],
      "metadata": {
        "id": "Q-k57RJ7WCSC"
      }
    },
    {
      "cell_type": "markdown",
      "source": [
        "1. What is Object-Oriented Programming (OOP)?\n",
        "- Object-Oriented Programming (OOP) is a programming approach based on the use of objects, which are instances of classes that contain both data and behavior. It is built around key concepts such as classes (blueprints for creating objects), objects (individual instances with specific values), encapsulation (bundling data and methods while restricting access to internal details), inheritance (allowing new classes to use features of existing ones), polymorphism (enabling different classes to respond to the same method in their own way), and abstraction (hiding complex details to show only essential features). OOP helps make code more modular, reusable, scalable, and easier to maintain by organizing it into logical structures that reflect real-world systems.\n",
        "\n",
        "2. What is a class in OOP?\n",
        "- In Object-Oriented Programming, a class is a blueprint or template for creating objects that share common properties and behaviors. It defines the structure and functions that the objects created from it will have, including variables to store data (called attributes or fields) and functions to define behavior (called methods). While the class itself is not an object, it serves as a model from which multiple objects can be created, each with its own specific values but with the same structure and capabilities defined by the class.\n",
        "\n",
        "3. What is an object in OOP?\n",
        "- An object in Object-Oriented Programming is a specific instance of a class that contains actual values for the properties defined by the class and can perform actions using the methods of that class. It represents a real-world entity with both data and behavior, combining state (through its attributes) and functionality (through its methods). Each object operates independently, although it follows the structure and rules set by its class. Multiple objects can be created from the same class, each with its own unique set of data but sharing the same behavior as defined by the class.\n",
        "\n",
        "4. What is the difference between abstraction and encapsulation?\n",
        "- Abstraction and encapsulation are both important concepts in object-oriented programming but serve different purposes. Abstraction focuses on hiding complex implementation details and exposing only the necessary parts of an object or system, allowing users to interact with the system without needing to understand how everything works internally. Encapsulation, on the other hand, is about bundling data and methods together within a class and restricting direct access to some of the object's components to protect its internal state. While abstraction simplifies complexity by providing a clear interface, encapsulation safeguards the data and ensures that it is used only in intended ways.\n",
        "\n",
        "5. What are dunder methods in Python?\n",
        "- Dunder methods in Python, also known as magic methods or special methods, are predefined methods with double underscores at the beginning and end of their names, such as init, str, or len. These methods are used to define or customize the behavior of objects for built-in operations like object creation, representation, comparison, and arithmetic. For example, the init method is called when an object is created, and the str method defines how the object is represented as a string. By overriding dunder methods in a class, developers can make their custom objects behave like built-in types and integrate more naturally with Python's syntax and functions.\n",
        "\n",
        "6. Explain the concept of inheritance in OOP.\n",
        "- Inheritance in object-oriented programming is a mechanism that allows a class to acquire the properties and behaviors of another class. The class that inherits is called the child or subclass, and the class being inherited from is called the parent or superclass. Through inheritance, the child class can reuse code from the parent class, reducing redundancy and promoting code reusability. It can also extend or override the parent class's methods to provide specific functionality. This concept supports a hierarchical relationship between classes and makes it easier to manage and organize code in large systems.\n",
        "\n",
        "7. What is polymorphism in OOP?\n",
        "- Polymorphism in object-oriented programming is the ability of different classes to respond to the same method call in different ways. It allows objects of different types to be treated through a common interface, enabling the same operation to behave differently depending on the object that is performing it. This is achieved through method overriding, where a subclass provides its own version of a method defined in the parent class, or through method overloading, where multiple methods with the same name perform different tasks based on input parameters. Polymorphism increases flexibility and scalability in code by allowing the same code structure to work with different types of objects.\n",
        "\n",
        "8.  How is encapsulation achieved in Python?\n",
        "- Encapsulation in Python is achieved by restricting access to an object’s internal data and methods, typically by using naming conventions to indicate that certain attributes or methods are intended to be private or protected. Although Python does not enforce strict access control like some other languages, prefixing an attribute or method name with a single underscore signals that it is meant for internal use, while a double underscore triggers name mangling to make it harder to access from outside the class. Encapsulation is further supported by providing public methods, often called getters and setters, which allow controlled access and modification of the private data, helping to protect the object’s state and maintain integrity.\n",
        "\n",
        "9. What is a constructor in Python?\n",
        "- A constructor in Python is a special method called init that is automatically called when a new object of a class is created. Its primary purpose is to initialize the object's attributes with specific values, setting up the initial state of the object. The constructor can take parameters to allow customization of the object during creation. By defining the init method inside a class, you ensure that whenever an instance of that class is created, it is properly initialized with the desired data or settings, making the object ready for use immediately after instantiation.\n",
        "\n",
        "10. What are class and static methods in Python?\n",
        "- Class methods and static methods in Python are two types of methods that belong to a class rather than an instance of the class. A class method is defined using the @classmethod decorator and takes the class itself as the first parameter, usually named cls, allowing it to access or modify class-level attributes and be called on the class or its instances. A static method, defined with the @staticmethod decorator, does not take any implicit first argument and behaves like a regular function but belongs to the class's namespace; it cannot access instance or class-specific data and is used for utility functions related to the class. Both provide ways to organize code within a class without requiring an instance.\n",
        "\n",
        "11. What is method overloading in Python?\n",
        "- Method overloading in Python refers to the ability to define multiple methods with the same name but different parameters within the same class to perform different tasks based on the arguments passed. However, unlike some other programming languages, Python does not support method overloading directly by defining multiple methods with the same name; instead, it allows a single method to handle different types or numbers of arguments using default parameters or variable-length arguments. This way, a method can behave differently depending on how it is called, providing flexibility in how functions are used within a class.\n",
        "\n",
        "12. What is method overriding in OOP?\n",
        "- Method overriding in object-oriented programming occurs when a subclass provides its own version of a method that is already defined in its parent class. This allows the subclass to change or extend the behavior of that method to suit its specific needs while maintaining the same method name and signature. When an overridden method is called on an object of the subclass, the version defined in the subclass is executed instead of the one in the parent class. Method overriding enables polymorphism and allows for more flexible and dynamic code.\n",
        "\n",
        "13. H What is a property decorator in Python?\n",
        "- A property decorator in Python is a built-in decorator called `@property` that allows you to define methods in a class that can be accessed like attributes. It is used to create managed attributes by defining getter, setter, and deleter methods in a clean and readable way without directly accessing the underlying private variables. Using the property decorator helps control access to an attribute, add validation, or compute values dynamically while keeping the syntax simple and intuitive for the users of the class.\n",
        "\n",
        "14. Why is polymorphism important in OOP?\n",
        "- Polymorphism is important in object-oriented programming because it allows objects of different classes to be treated through a common interface, enabling the same operation to behave differently depending on the object it is acting on. This flexibility makes code more reusable, extensible, and easier to maintain, as new classes can be introduced with their own specific implementations without changing the existing code that uses them. Polymorphism supports dynamic method binding and helps achieve cleaner, more modular designs by allowing the same code to work with different types of objects seamlessly.\n",
        "\n",
        "15. What is an abstract class in Python?\n",
        "- An abstract class in Python is a class that cannot be instantiated on its own and is designed to serve as a blueprint for other classes. It can contain one or more abstract methods, which are methods declared but not implemented in the abstract class, forcing subclasses to provide their own implementation of these methods. Abstract classes are created using the `abc` module and the `@abstractmethod` decorator. They are used to define a common interface for a group of related classes and ensure that certain methods are implemented in any subclass, promoting consistency and providing a clear structure in the code.\n",
        "\n",
        "16. What are the advantages of OOP?\n",
        "- The advantages of object-oriented programming include improved modularity because code is organized into classes and objects, making it easier to manage and maintain. It promotes code reusability through inheritance, allowing new classes to reuse existing code. OOP also enhances flexibility and scalability by supporting polymorphism, which lets different objects respond to the same method in different ways. Encapsulation helps protect an object's data by restricting access and providing controlled interfaces, increasing security and reducing complexity. Overall, OOP leads to clearer, more organized, and maintainable code that better models real-world problems.\n",
        "\n",
        "17. What is the difference between a class variable and an instance variable?\n",
        "- A class variable is a variable that is shared among all instances of a class, meaning there is only one copy of the variable, and any changes to it affect all instances. It is defined within the class but outside any methods. An instance variable, on the other hand, is unique to each object created from the class and stores data specific to that particular instance. Instance variables are usually defined inside methods, typically the constructor, and each object maintains its own separate copy. This distinction allows class variables to hold data common to all objects, while instance variables hold data that can vary between objects.\n",
        "\n",
        "18. What is multiple inheritance in Python?\n",
        "- Multiple inheritance in Python is a feature that allows a class to inherit attributes and methods from more than one parent class. This means that a subclass can combine the functionality of multiple classes, enabling greater flexibility and code reuse. When a method or attribute is accessed, Python uses a method resolution order to determine which parent class’s version to use, especially if there are conflicts. While multiple inheritance can be powerful, it requires careful design to avoid complexity and ambiguity in the class hierarchy.\n",
        "\n",
        "19.  Explain the purpose of ‘’__str__’ and ‘__repr__’ ‘ methods in Python?\n",
        "- The `__str__` and `__repr__` methods in Python are special methods used to define how objects are represented as strings. The `__str__` method is intended to provide a readable, user-friendly string representation of an object, often used when printing the object or converting it to a string with `str()`. In contrast, the `__repr__` method is meant to provide an official string representation of the object that is more detailed and unambiguous, ideally one that could be used to recreate the object when passed to `eval()`. If `__str__` is not defined, Python falls back to using `__repr__` when printing objects.\n",
        "\n",
        "20.  What is the significance of the ‘super()’ function in Python?\n",
        "- The super() function in Python is used to give access to methods and properties of a parent or superclass from within a subclass. It allows a subclass to call and extend the behavior of the parent class without explicitly naming it, which is especially useful in multiple inheritance scenarios. Using super() helps ensure that the parent class is properly initialized or its methods are correctly invoked, promoting code reuse and maintaining the correct method resolution order. This makes the code cleaner, more maintainable, and less error-prone when working with class hierarchies.\n",
        "\n",
        "21. What is the significance of the __del__ method in Python?\n",
        "- The `__del__` method in Python is a special method called a destructor that is automatically invoked when an object is about to be destroyed or garbage collected. Its significance lies in allowing the programmer to define cleanup actions, such as releasing external resources like files or network connections, before the object is removed from memory. However, the timing of when `__del__` is called is not guaranteed, so it should be used cautiously and not relied upon for critical cleanup tasks.\n",
        "\n",
        "22. What is the difference between @staticmethod and @classmethod in Python?\n",
        "- The difference between @staticmethod and @classmethod in Python lies in how they are called and what they can access within a class. A static method, marked with the @staticmethod decorator, does not take any implicit first argument and behaves like a regular function that belongs to the class’s namespace; it cannot access or modify the class or instance state. A class method, marked with the @classmethod decorator, takes the class itself as the first argument, usually named cls, allowing it to access and modify class-level attributes and call other class methods. While static methods are used for utility functions related to the class, class methods are often used for alternative constructors or methods that need to interact with the class itself.\n",
        "\n",
        "23. How does polymorphism work in Python with inheritance?\n",
        "- Polymorphism in Python with inheritance works by allowing a subclass to provide its own implementation of a method that is defined in its parent class. When you call that method on an object, Python determines at runtime which version of the method to execute based on the actual class of the object, not the type of the reference. This means you can write code that works with objects of the parent class but automatically uses the subclass’s version of the method if the object is an instance of the subclass. This enables flexible and extensible code where different classes can be used interchangeably as long as they share the same interface or method names.\n",
        "\n",
        "24. What is method chaining in Python OOP?\n",
        "- Method chaining in Python OOP is a technique where multiple methods are called sequentially on the same object in a single line of code. This is typically achieved by having each method return the object itself (usually by returning `self`), allowing the next method to be called directly on that returned object. Method chaining can make the code more concise and readable, especially when performing a series of related operations on an object.\n",
        "\n",
        "25. What is the purpose of the __call__ method in Python?\n",
        "- The purpose of the `__call__` method in Python is to make an instance of a class callable like a regular function. When you define the `__call__` method in a class, you can use its objects with the function call syntax (using parentheses), and the code inside `__call__` will be executed. This allows objects to behave like functions, enabling more flexible and intuitive interfaces in your code.\n",
        "\n"
      ],
      "metadata": {
        "id": "henQSz37Wd4-"
      }
    },
    {
      "cell_type": "markdown",
      "source": [
        "#PRACTICAL QUESTIONS"
      ],
      "metadata": {
        "id": "NuWT2wqugc0y"
      }
    },
    {
      "cell_type": "markdown",
      "source": [
        "1. Create a parent class Animal with a method speak() that prints a generic message. Create a child class Dog\n",
        "that overrides the speak() method to print \"Bark!\"."
      ],
      "metadata": {
        "id": "mcKPfOccgqVz"
      }
    },
    {
      "cell_type": "code",
      "source": [
        "class Animal:\n",
        "    def speak(self):\n",
        "        print(\"This animal makes a sound.\")\n",
        "\n",
        "class Dog(Animal):\n",
        "    def speak(self):\n",
        "        print(\"Bark!\")\n",
        "\n",
        "# Example usage:\n",
        "animal = Animal()\n",
        "animal.speak()  # Output: This animal makes a sound.\n",
        "\n",
        "dog = Dog()\n",
        "dog.speak()     # Output: Bark!\n"
      ],
      "metadata": {
        "colab": {
          "base_uri": "https://localhost:8080/"
        },
        "id": "hRN_OdfPg9CQ",
        "outputId": "3967110b-0ff1-46e5-b348-c1bf74e25cdf"
      },
      "execution_count": 1,
      "outputs": [
        {
          "output_type": "stream",
          "name": "stdout",
          "text": [
            "This animal makes a sound.\n",
            "Bark!\n"
          ]
        }
      ]
    },
    {
      "cell_type": "markdown",
      "source": [
        "2.  Write a program to create an abstract class Shape with a method area(). Derive classes Circle and Rectangle\n",
        "from it and implement the area() method in both.\n",
        "\n",
        "\n"
      ],
      "metadata": {
        "id": "bcSKOXsAhHSM"
      }
    },
    {
      "cell_type": "code",
      "source": [
        "from abc import ABC, abstractmethod\n",
        "import math\n",
        "\n",
        "class Shape(ABC):\n",
        "    @abstractmethod\n",
        "    def area(self):\n",
        "        pass\n",
        "\n",
        "class Circle(Shape):\n",
        "    def __init__(self, radius):\n",
        "        self.radius = radius\n",
        "\n",
        "    def area(self):\n",
        "        return math.pi * self.radius ** 2\n",
        "\n",
        "class Rectangle(Shape):\n",
        "    def __init__(self, width, height):\n",
        "        self.width = width\n",
        "        self.height = height\n",
        "\n",
        "    def area(self):\n",
        "        return self.width * self.height\n",
        "\n",
        "# Example usage:\n",
        "circle = Circle(5)\n",
        "print(\"Area of Circle:\", circle.area())\n",
        "\n",
        "rectangle = Rectangle(4, 6)\n",
        "print(\"Area of Rectangle:\", rectangle.area())\n"
      ],
      "metadata": {
        "colab": {
          "base_uri": "https://localhost:8080/"
        },
        "id": "Dtr9CYYQhL_N",
        "outputId": "65a7992d-9fe4-491b-f4c3-a4b7fb546b66"
      },
      "execution_count": 2,
      "outputs": [
        {
          "output_type": "stream",
          "name": "stdout",
          "text": [
            "Area of Circle: 78.53981633974483\n",
            "Area of Rectangle: 24\n"
          ]
        }
      ]
    },
    {
      "cell_type": "markdown",
      "source": [
        "3.  Implement a multi-level inheritance scenario where a class Vehicle has an attribute type. Derive a class Car\n",
        "and further derive a class ElectricCar that adds a battery attribute."
      ],
      "metadata": {
        "id": "LiR_iqV4hTtE"
      }
    },
    {
      "cell_type": "code",
      "source": [
        "class Vehicle:\n",
        "    def __init__(self, vehicle_type):\n",
        "        self.type = vehicle_type\n",
        "\n",
        "class Car(Vehicle):\n",
        "    def __init__(self, vehicle_type, brand):\n",
        "        super().__init__(vehicle_type)\n",
        "        self.brand = brand\n",
        "\n",
        "class ElectricCar(Car):\n",
        "    def __init__(self, vehicle_type, brand, battery_capacity):\n",
        "        super().__init__(vehicle_type, brand)\n",
        "        self.battery = battery_capacity\n",
        "\n",
        "# Example usage:\n",
        "ev = ElectricCar(\"Four-wheeler\", \"Tesla\", \"100 kWh\")\n",
        "print(\"Type:\", ev.type)\n",
        "print(\"Brand:\", ev.brand)\n",
        "print(\"Battery Capacity:\", ev.battery)\n"
      ],
      "metadata": {
        "colab": {
          "base_uri": "https://localhost:8080/"
        },
        "id": "lv8li7YPhYZg",
        "outputId": "2464a171-0e55-4c3d-c68c-1efe28244a56"
      },
      "execution_count": 3,
      "outputs": [
        {
          "output_type": "stream",
          "name": "stdout",
          "text": [
            "Type: Four-wheeler\n",
            "Brand: Tesla\n",
            "Battery Capacity: 100 kWh\n"
          ]
        }
      ]
    },
    {
      "cell_type": "markdown",
      "source": [
        "4. Demonstrate polymorphism by creating a base class Bird with a method fly(). Create two derived classes\n",
        "Sparrow and Penguin that override the fly() method.\n"
      ],
      "metadata": {
        "id": "BwLlkAS3hdZI"
      }
    },
    {
      "cell_type": "code",
      "source": [
        "class Bird:\n",
        "    def fly(self):\n",
        "        print(\"This bird can fly.\")\n",
        "\n",
        "class Sparrow(Bird):\n",
        "    def fly(self):\n",
        "        print(\"Sparrow is flying high!\")\n",
        "\n",
        "class Penguin(Bird):\n",
        "    def fly(self):\n",
        "        print(\"Penguins cannot fly, but they can swim.\")\n",
        "\n",
        "# Example usage:\n",
        "birds = [Sparrow(), Penguin()]\n",
        "\n",
        "for bird in birds:\n",
        "    bird.fly()\n"
      ],
      "metadata": {
        "colab": {
          "base_uri": "https://localhost:8080/"
        },
        "id": "1qaBcnUDhix6",
        "outputId": "57f18151-5298-4ca4-d8a3-cd90ed00dbf3"
      },
      "execution_count": 4,
      "outputs": [
        {
          "output_type": "stream",
          "name": "stdout",
          "text": [
            "Sparrow is flying high!\n",
            "Penguins cannot fly, but they can swim.\n"
          ]
        }
      ]
    },
    {
      "cell_type": "markdown",
      "source": [
        "5. Write a program to demonstrate encapsulation by creating a class BankAccount with private attributes\n",
        "balance and methods to deposit, withdraw, and check balance."
      ],
      "metadata": {
        "id": "ZGPmPu6php7z"
      }
    },
    {
      "cell_type": "code",
      "source": [
        "class BankAccount:\n",
        "    def __init__(self, initial_balance=0):\n",
        "        self.__balance = initial_balance  # Private attribute\n",
        "\n",
        "    def deposit(self, amount):\n",
        "        if amount > 0:\n",
        "            self.__balance += amount\n",
        "            print(f\"Deposited: {amount}\")\n",
        "        else:\n",
        "            print(\"Deposit amount must be positive.\")\n",
        "\n",
        "    def withdraw(self, amount):\n",
        "        if 0 < amount <= self.__balance:\n",
        "            self.__balance -= amount\n",
        "            print(f\"Withdrawn: {amount}\")\n",
        "        else:\n",
        "            print(\"Insufficient balance or invalid withdrawal amount.\")\n",
        "\n",
        "    def check_balance(self):\n",
        "        print(f\"Current Balance: {self.__balance}\")\n",
        "\n",
        "# Example usage:\n",
        "account = BankAccount(100)\n",
        "account.deposit(50)\n",
        "account.withdraw(30)\n",
        "account.check_balance()\n",
        "\n",
        "# Trying to access the private attribute directly will result in an error\n",
        "# print(account.__balance)  # This will raise an AttributeError\n"
      ],
      "metadata": {
        "colab": {
          "base_uri": "https://localhost:8080/"
        },
        "id": "3nIFLdLHht1z",
        "outputId": "38365def-9418-4116-ce32-2658ffbfa4e2"
      },
      "execution_count": 5,
      "outputs": [
        {
          "output_type": "stream",
          "name": "stdout",
          "text": [
            "Deposited: 50\n",
            "Withdrawn: 30\n",
            "Current Balance: 120\n"
          ]
        }
      ]
    },
    {
      "cell_type": "markdown",
      "source": [
        "6.  Demonstrate runtime polymorphism using a method play() in a base class Instrument. Derive classes Guitar\n",
        "and Piano that implement their own version of play()."
      ],
      "metadata": {
        "id": "ALLFwR9WhzN8"
      }
    },
    {
      "cell_type": "code",
      "source": [
        "class Instrument:\n",
        "    def play(self):\n",
        "        print(\"Playing some instrument.\")\n",
        "\n",
        "class Guitar(Instrument):\n",
        "    def play(self):\n",
        "        print(\"Playing the guitar with strumming.\")\n",
        "\n",
        "class Piano(Instrument):\n",
        "    def play(self):\n",
        "        print(\"Playing the piano with keys.\")\n",
        "\n",
        "# Example usage:\n",
        "instruments = [Guitar(), Piano()]\n",
        "\n",
        "for instrument in instruments:\n",
        "    instrument.play()\n"
      ],
      "metadata": {
        "colab": {
          "base_uri": "https://localhost:8080/"
        },
        "id": "tDoFoffWh2h-",
        "outputId": "1fe63b50-a9ff-44b3-bd4e-761a86b4954c"
      },
      "execution_count": 6,
      "outputs": [
        {
          "output_type": "stream",
          "name": "stdout",
          "text": [
            "Playing the guitar with strumming.\n",
            "Playing the piano with keys.\n"
          ]
        }
      ]
    },
    {
      "cell_type": "markdown",
      "source": [
        "7.  Create a class MathOperations with a class method add_numbers() to add two numbers and a static\n",
        "method subtract_numbers() to subtract two numbers."
      ],
      "metadata": {
        "id": "hflLWHGGh82X"
      }
    },
    {
      "cell_type": "code",
      "source": [
        "class MathOperations:\n",
        "    @classmethod\n",
        "    def add_numbers(cls, a, b):\n",
        "        return a + b\n",
        "\n",
        "    @staticmethod\n",
        "    def subtract_numbers(a, b):\n",
        "        return a - b\n",
        "\n",
        "# Example usage:\n",
        "print(\"Addition:\", MathOperations.add_numbers(10, 5))\n",
        "print(\"Subtraction:\", MathOperations.subtract_numbers(10, 5))\n"
      ],
      "metadata": {
        "colab": {
          "base_uri": "https://localhost:8080/"
        },
        "id": "M1cjipzxiAlq",
        "outputId": "bab68766-032e-4748-eaa0-39d006f9c47f"
      },
      "execution_count": 7,
      "outputs": [
        {
          "output_type": "stream",
          "name": "stdout",
          "text": [
            "Addition: 15\n",
            "Subtraction: 5\n"
          ]
        }
      ]
    },
    {
      "cell_type": "markdown",
      "source": [
        "8.  Implement a class Person with a class method to count the total number of persons created."
      ],
      "metadata": {
        "id": "BGdnHeUsiFgt"
      }
    },
    {
      "cell_type": "code",
      "source": [
        "class Person:\n",
        "    count = 0  # Class variable to keep track of number of instances\n",
        "\n",
        "    def __init__(self, name):\n",
        "        self.name = name\n",
        "        Person.count += 1\n",
        "\n",
        "    @classmethod\n",
        "    def total_persons(cls):\n",
        "        return cls.count\n",
        "\n",
        "# Example usage:\n",
        "p1 = Person(\"Alice\")\n",
        "p2 = Person(\"Bob\")\n",
        "p3 = Person(\"Charlie\")\n",
        "\n",
        "print(\"Total persons created:\", Person.total_persons())\n"
      ],
      "metadata": {
        "colab": {
          "base_uri": "https://localhost:8080/"
        },
        "id": "HfGWVJ-hiJZL",
        "outputId": "49ced01c-bfa6-4833-9713-15b54ea83f2a"
      },
      "execution_count": 8,
      "outputs": [
        {
          "output_type": "stream",
          "name": "stdout",
          "text": [
            "Total persons created: 3\n"
          ]
        }
      ]
    },
    {
      "cell_type": "markdown",
      "source": [
        "9. Write a class Fraction with attributes numerator and denominator. Override the str method to display the\n",
        "fraction as \"numerator/denominator\"."
      ],
      "metadata": {
        "id": "LMxw5KAuiNFV"
      }
    },
    {
      "cell_type": "code",
      "source": [
        "class Fraction:\n",
        "    def __init__(self, numerator, denominator):\n",
        "        self.numerator = numerator\n",
        "        self.denominator = denominator\n",
        "\n",
        "    def __str__(self):\n",
        "        return f\"{self.numerator}/{self.denominator}\"\n",
        "\n",
        "# Example usage:\n",
        "frac = Fraction(3, 4)\n",
        "print(frac)  # Output: 3/4\n"
      ],
      "metadata": {
        "colab": {
          "base_uri": "https://localhost:8080/"
        },
        "id": "Z3j2BE4RiRPf",
        "outputId": "f2a7979a-4b56-4ab4-e7b8-c4ffe4ecdcdc"
      },
      "execution_count": 9,
      "outputs": [
        {
          "output_type": "stream",
          "name": "stdout",
          "text": [
            "3/4\n"
          ]
        }
      ]
    },
    {
      "cell_type": "markdown",
      "source": [
        "10.  Demonstrate operator overloading by creating a class Vector and overriding the add method to add two\n",
        "vectors."
      ],
      "metadata": {
        "id": "RmQPsDPEiVaR"
      }
    },
    {
      "cell_type": "code",
      "source": [
        "class Vector:\n",
        "    def __init__(self, x, y):\n",
        "        self.x = x\n",
        "        self.y = y\n",
        "\n",
        "    def __add__(self, other):\n",
        "        if isinstance(other, Vector):\n",
        "            return Vector(self.x + other.x, self.y + other.y)\n",
        "        return NotImplemented\n",
        "\n",
        "    def __str__(self):\n",
        "        return f\"Vector({self.x}, {self.y})\"\n",
        "\n",
        "# Example usage:\n",
        "v1 = Vector(2, 3)\n",
        "v2 = Vector(4, 5)\n",
        "result = v1 + v2\n",
        "print(result)  # Output: Vector(6, 8)\n"
      ],
      "metadata": {
        "colab": {
          "base_uri": "https://localhost:8080/"
        },
        "id": "kLMijOmiiZBL",
        "outputId": "02bb326c-2434-4202-da21-5e7bcfe0790f"
      },
      "execution_count": 10,
      "outputs": [
        {
          "output_type": "stream",
          "name": "stdout",
          "text": [
            "Vector(6, 8)\n"
          ]
        }
      ]
    },
    {
      "cell_type": "markdown",
      "source": [
        "11. Create a class Person with attributes name and age. Add a method greet() that prints \"Hello, my name is\n",
        "{name} and I am {age} years old.\""
      ],
      "metadata": {
        "id": "wfh1batOidfp"
      }
    },
    {
      "cell_type": "code",
      "source": [
        "class Person:\n",
        "    def __init__(self, name, age):\n",
        "        self.name = name\n",
        "        self.age = age\n",
        "\n",
        "    def greet(self):\n",
        "        print(f\"Hello, my name is {self.name} and I am {self.age} years old.\")\n",
        "\n",
        "# Example usage:\n",
        "person = Person(\"Alice\", 30)\n",
        "person.greet()\n"
      ],
      "metadata": {
        "colab": {
          "base_uri": "https://localhost:8080/"
        },
        "id": "JdlQqm4xih2w",
        "outputId": "70e61eab-fdd5-4ec9-8a7b-a9ffc668d00a"
      },
      "execution_count": 11,
      "outputs": [
        {
          "output_type": "stream",
          "name": "stdout",
          "text": [
            "Hello, my name is Alice and I am 30 years old.\n"
          ]
        }
      ]
    },
    {
      "cell_type": "markdown",
      "source": [
        "12.  Implement a class Student with attributes name and grades. Create a method average_grade() to compute\n",
        "the average of the grades."
      ],
      "metadata": {
        "id": "6N9Vjhi9imOU"
      }
    },
    {
      "cell_type": "code",
      "source": [
        "class Student:\n",
        "    def __init__(self, name, grades):\n",
        "        self.name = name\n",
        "        self.grades = grades  # grades should be a list of numbers\n",
        "\n",
        "    def average_grade(self):\n",
        "        if not self.grades:\n",
        "            return 0\n",
        "        return sum(self.grades) / len(self.grades)\n",
        "\n",
        "# Example usage:\n",
        "student = Student(\"John\", [85, 90, 78, 92])\n",
        "print(f\"{student.name}'s average grade is {student.average_grade()}\")\n"
      ],
      "metadata": {
        "colab": {
          "base_uri": "https://localhost:8080/"
        },
        "id": "f5_Pr2iuisF6",
        "outputId": "14b0bcc1-bae5-4e08-e592-c3c74b6d93e4"
      },
      "execution_count": 12,
      "outputs": [
        {
          "output_type": "stream",
          "name": "stdout",
          "text": [
            "John's average grade is 86.25\n"
          ]
        }
      ]
    },
    {
      "cell_type": "markdown",
      "source": [
        "13. Create a class Rectangle with methods set_dimensions() to set the dimensions and area() to calculate the\n",
        "area."
      ],
      "metadata": {
        "id": "fiRJ0i5Yi31o"
      }
    },
    {
      "cell_type": "code",
      "source": [
        "class Rectangle:\n",
        "    def __init__(self):\n",
        "        self.width = 0\n",
        "        self.height = 0\n",
        "\n",
        "    def set_dimensions(self, width, height):\n",
        "        self.width = width\n",
        "        self.height = height\n",
        "\n",
        "    def area(self):\n",
        "        return self.width * self.height\n",
        "\n",
        "# Example usage:\n",
        "rect = Rectangle()\n",
        "rect.set_dimensions(5, 10)\n",
        "print(\"Area of rectangle:\", rect.area())\n"
      ],
      "metadata": {
        "colab": {
          "base_uri": "https://localhost:8080/"
        },
        "id": "nXZZwc8ti7hI",
        "outputId": "27d37420-811c-404a-afb7-6cdbc99f6355"
      },
      "execution_count": 13,
      "outputs": [
        {
          "output_type": "stream",
          "name": "stdout",
          "text": [
            "Area of rectangle: 50\n"
          ]
        }
      ]
    },
    {
      "cell_type": "markdown",
      "source": [
        "14. Create a class Employee with a method calculate_salary() that computes the salary based on hours worked\n",
        "and hourly rate. Create a derived class Manager that adds a bonus to the salary."
      ],
      "metadata": {
        "id": "Ec2qVsZPjCcE"
      }
    },
    {
      "cell_type": "code",
      "source": [
        "class Employee:\n",
        "    def __init__(self, name, hours_worked, hourly_rate):\n",
        "        self.name = name\n",
        "        self.hours_worked = hours_worked\n",
        "        self.hourly_rate = hourly_rate\n",
        "\n",
        "    def calculate_salary(self):\n",
        "        return self.hours_worked * self.hourly_rate\n",
        "\n",
        "class Manager(Employee):\n",
        "    def __init__(self, name, hours_worked, hourly_rate, bonus):\n",
        "        super().__init__(name, hours_worked, hourly_rate)\n",
        "        self.bonus = bonus\n",
        "\n",
        "    def calculate_salary(self):\n",
        "        base_salary = super().calculate_salary()\n",
        "        return base_salary + self.bonus\n",
        "\n",
        "# Example usage:\n",
        "emp = Employee(\"Alice\", 40, 20)\n",
        "mgr = Manager(\"Bob\", 40, 30, 500)\n",
        "\n",
        "print(f\"{emp.name}'s Salary: ${emp.calculate_salary()}\")\n",
        "print(f\"{mgr.name}'s Salary: ${mgr.calculate_salary()}\")\n"
      ],
      "metadata": {
        "colab": {
          "base_uri": "https://localhost:8080/"
        },
        "id": "f_4KolaGjJv0",
        "outputId": "1ae210f1-82e9-42f4-c150-8b38c3ce947d"
      },
      "execution_count": 14,
      "outputs": [
        {
          "output_type": "stream",
          "name": "stdout",
          "text": [
            "Alice's Salary: $800\n",
            "Bob's Salary: $1700\n"
          ]
        }
      ]
    },
    {
      "cell_type": "markdown",
      "source": [
        "15. Create a class Product with attributes name, price, and quantity. Implement a method total_price() that\n",
        "calculates the total price of the product."
      ],
      "metadata": {
        "id": "bnHzHmLVjQ-2"
      }
    },
    {
      "cell_type": "code",
      "source": [
        "class Product:\n",
        "    def __init__(self, name, price, quantity):\n",
        "        self.name = name\n",
        "        self.price = price\n",
        "        self.quantity = quantity\n",
        "\n",
        "    def total_price(self):\n",
        "        return self.price * self.quantity\n",
        "\n",
        "# Example usage:\n",
        "product = Product(\"Laptop\", 1000, 3)\n",
        "print(f\"Total price for {product.name}: ${product.total_price()}\")\n"
      ],
      "metadata": {
        "colab": {
          "base_uri": "https://localhost:8080/"
        },
        "id": "yCYEbJ4sjVlI",
        "outputId": "1f8ff48b-c6d5-4964-e5b2-7b2de83887de"
      },
      "execution_count": 15,
      "outputs": [
        {
          "output_type": "stream",
          "name": "stdout",
          "text": [
            "Total price for Laptop: $3000\n"
          ]
        }
      ]
    },
    {
      "cell_type": "markdown",
      "source": [
        "16. Create a class Animal with an abstract method sound(). Create two derived classes Cow and Sheep that\n",
        "implement the sound() method."
      ],
      "metadata": {
        "id": "lNmyniOtjdsL"
      }
    },
    {
      "cell_type": "code",
      "source": [
        "from abc import ABC, abstractmethod\n",
        "\n",
        "class Animal(ABC):\n",
        "    @abstractmethod\n",
        "    def sound(self):\n",
        "        pass\n",
        "\n",
        "class Cow(Animal):\n",
        "    def sound(self):\n",
        "        print(\"Moo\")\n",
        "\n",
        "class Sheep(Animal):\n",
        "    def sound(self):\n",
        "        print(\"Baa\")\n",
        "\n",
        "# Example usage:\n",
        "cow = Cow()\n",
        "sheep = Sheep()\n",
        "\n",
        "cow.sound()    # Output: Moo\n",
        "sheep.sound()  # Output: Baa\n"
      ],
      "metadata": {
        "colab": {
          "base_uri": "https://localhost:8080/"
        },
        "id": "A1EimnQ5jhX4",
        "outputId": "3e9975ef-aa6c-451a-a04e-a7ce04e7007c"
      },
      "execution_count": 16,
      "outputs": [
        {
          "output_type": "stream",
          "name": "stdout",
          "text": [
            "Moo\n",
            "Baa\n"
          ]
        }
      ]
    },
    {
      "cell_type": "markdown",
      "source": [
        "17. Create a class Book with attributes title, author, and year_published. Add a method get_book_info() that\n",
        "returns a formatted string with the book's details."
      ],
      "metadata": {
        "id": "3WMP0eO6jk6j"
      }
    },
    {
      "cell_type": "code",
      "source": [
        "class Book:\n",
        "    def __init__(self, title, author, year_published):\n",
        "        self.title = title\n",
        "        self.author = author\n",
        "        self.year_published = year_published\n",
        "\n",
        "    def get_book_info(self):\n",
        "        return f\"'{self.title}' by {self.author}, published in {self.year_published}\"\n",
        "\n",
        "# Example usage:\n",
        "book = Book(\"1984\", \"George Orwell\", 1949)\n",
        "print(book.get_book_info())\n"
      ],
      "metadata": {
        "colab": {
          "base_uri": "https://localhost:8080/"
        },
        "id": "ZN97uqy8jouP",
        "outputId": "e0bd6656-05c9-45fa-db31-7172083bbe20"
      },
      "execution_count": 17,
      "outputs": [
        {
          "output_type": "stream",
          "name": "stdout",
          "text": [
            "'1984' by George Orwell, published in 1949\n"
          ]
        }
      ]
    },
    {
      "cell_type": "markdown",
      "source": [
        "18. Create a class House with attributes address and price. Create a derived class Mansion that adds an\n",
        "attribute number_of_rooms."
      ],
      "metadata": {
        "id": "tfYV9-6rjuKI"
      }
    },
    {
      "cell_type": "code",
      "source": [
        "class House:\n",
        "    def __init__(self, address, price):\n",
        "        self.address = address\n",
        "        self.price = price\n",
        "\n",
        "class Mansion(House):\n",
        "    def __init__(self, address, price, number_of_rooms):\n",
        "        super().__init__(address, price)\n",
        "        self.number_of_rooms = number_of_rooms\n",
        "\n",
        "# Example usage:\n",
        "house = House(\"123 Main St\", 300000)\n",
        "mansion = Mansion(\"456 Luxury Ave\", 2000000, 10)\n",
        "\n",
        "print(f\"House Address: {house.address}, Price: ${house.price}\")\n",
        "print(f\"Mansion Address: {mansion.address}, Price: ${mansion.price}, Rooms: {mansion.number_of_rooms}\")\n"
      ],
      "metadata": {
        "colab": {
          "base_uri": "https://localhost:8080/"
        },
        "id": "ugFU_qf5jyFl",
        "outputId": "30936ead-12a1-42e1-a5bc-3875d964f7e3"
      },
      "execution_count": 18,
      "outputs": [
        {
          "output_type": "stream",
          "name": "stdout",
          "text": [
            "House Address: 123 Main St, Price: $300000\n",
            "Mansion Address: 456 Luxury Ave, Price: $2000000, Rooms: 10\n"
          ]
        }
      ]
    }
  ]
}